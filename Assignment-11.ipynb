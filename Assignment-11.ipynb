{
 "cells": [
  {
   "cell_type": "code",
   "execution_count": 1,
   "id": "37a4e1c8-62e5-454a-be4e-3c66e0982e57",
   "metadata": {},
   "outputs": [],
   "source": [
    "#q1)\n",
    "#Multiprocessing in Python allows concurrent execution of multiple processes, utilizing multiple CPU cores for improved performance and parallelism. It is useful for tasks that are CPU-bound, \n",
    "#require parallel processing, and can benefit from distributing the workload across multiple processes and cores."
   ]
  },
  {
   "cell_type": "code",
   "execution_count": 2,
   "id": "6b80df5f-cd59-425b-beeb-d3c9fac6f14b",
   "metadata": {},
   "outputs": [],
   "source": [
    "#q2)\n",
    "#Core Execution: In multiprocessing, each process runs independently on separate memory spaces and can utilize multiple CPU cores for true parallel execution. In multithreading, multiple threads run within a single process and share the same memory space, but are executed concurrently by time-slicing the CPU.\n",
    "\n",
    "#Memory Isolation: Processes in multiprocessing have separate memory spaces, providing isolation and robustness. Threads in multithreading share the same memory space, enabling efficient communication but requiring synchronization mechanisms to handle shared data.\n",
    "\n",
    "#Scalability: Multiprocessing is well-suited for CPU-bound tasks and can scale across multiple cores, while multithreading is effective for I/O-bound tasks and can scale within a single core. Multiprocessing offers better utilization of multiple cores, but incurs higher overhead and complexity compared to multithreading."
   ]
  },
  {
   "cell_type": "code",
   "execution_count": 3,
   "id": "e2013508-c30c-44e4-b2ef-828dbe2201c8",
   "metadata": {},
   "outputs": [
    {
     "name": "stdout",
     "output_type": "stream",
     "text": [
      "This is a child process.\n",
      "Main process completed.\n"
     ]
    }
   ],
   "source": [
    "#q3)\n",
    "import multiprocessing\n",
    "\n",
    "def process_function():\n",
    "    print(\"This is a child process.\")\n",
    "\n",
    "if __name__ == \"__main__\":\n",
    "    # Create a new process\n",
    "    process = multiprocessing.Process(target=process_function)\n",
    "\n",
    "    # Start the process\n",
    "    process.start()\n",
    "\n",
    "    # Wait for the process to finish\n",
    "    process.join()\n",
    "\n",
    "    print(\"Main process completed.\")\n"
   ]
  },
  {
   "cell_type": "code",
   "execution_count": 4,
   "id": "3fb6f81c-e5a9-496a-b066-5667fecff8c0",
   "metadata": {},
   "outputs": [],
   "source": [
    "#q4)\n",
    "#A multiprocessing pool in Python is a mechanism for parallel execution of tasks using multiple worker processes. It simplifies task management, optimizes resource utilization, and enables efficient workload distribution across CPU cores. It is used to enhance performance and scalability for CPU-bound tasks."
   ]
  },
  {
   "cell_type": "code",
   "execution_count": 5,
   "id": "800e9543-6f18-45b9-b848-043c8249e80d",
   "metadata": {},
   "outputs": [
    {
     "name": "stdout",
     "output_type": "stream",
     "text": [
      "[2, 4, 6, 8, 10]\n"
     ]
    }
   ],
   "source": [
    "#q5)\n",
    "import multiprocessing\n",
    "\n",
    "def process_function(task):\n",
    "    # Perform some task\n",
    "    result = task * 2\n",
    "    return result\n",
    "\n",
    "if __name__ == \"__main__\":\n",
    "    pool = multiprocessing.Pool(processes=4)\n",
    "    tasks = [1, 2, 3, 4, 5]\n",
    "    results = pool.map(process_function, tasks)\n",
    "    pool.close()\n",
    "    pool.join()\n",
    "    print(results)\n"
   ]
  },
  {
   "cell_type": "code",
   "execution_count": 6,
   "id": "3d881fee-1080-41bd-8b78-4d5c64819405",
   "metadata": {},
   "outputs": [
    {
     "name": "stdout",
     "output_type": "stream",
     "text": [
      "Process 12Process  printed  Process1printed \n",
      " 32 \n",
      "Processprinted  34\n",
      " printed 4\n"
     ]
    }
   ],
   "source": [
    "#q6)\n",
    "import multiprocessing\n",
    "\n",
    "def print_number(number):\n",
    "    print(\"Process\", number, \"printed\", number)\n",
    "\n",
    "if __name__ == \"__main__\":\n",
    "    processes = []\n",
    "    \n",
    "    for i in range(1, 5):\n",
    "        process = multiprocessing.Process(target=print_number, args=(i,))\n",
    "        processes.append(process)\n",
    "        process.start()\n",
    "    \n",
    "    for process in processes:\n",
    "        process.join()\n"
   ]
  },
  {
   "cell_type": "code",
   "execution_count": null,
   "id": "c753d28d-07e5-4913-a6cb-fdea9a39b0c0",
   "metadata": {},
   "outputs": [],
   "source": []
  }
 ],
 "metadata": {
  "kernelspec": {
   "display_name": "Python 3 (ipykernel)",
   "language": "python",
   "name": "python3"
  },
  "language_info": {
   "codemirror_mode": {
    "name": "ipython",
    "version": 3
   },
   "file_extension": ".py",
   "mimetype": "text/x-python",
   "name": "python",
   "nbconvert_exporter": "python",
   "pygments_lexer": "ipython3",
   "version": "3.10.8"
  }
 },
 "nbformat": 4,
 "nbformat_minor": 5
}
